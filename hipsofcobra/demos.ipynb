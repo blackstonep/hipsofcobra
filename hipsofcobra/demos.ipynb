{
 "cells": [
  {
   "cell_type": "code",
   "execution_count": 1,
   "metadata": {},
   "outputs": [],
   "source": [
    "from classes import HipsofCobra\n",
    "import numpy as np\n",
    "import matplotlib.pyplot as plt\n",
    "\n"
   ]
  },
  {
   "cell_type": "code",
   "execution_count": 4,
   "metadata": {},
   "outputs": [
    {
     "data": {
      "text/plain": [
       "<Figure size 432x288 with 0 Axes>"
      ]
     },
     "metadata": {},
     "output_type": "display_data"
    }
   ],
   "source": [
    "# Define the clist below to change the coefficients. The typical \n",
    "# \"higgs-mixed scalar model\" is c=[c_{ud}, c_s, c_g]=[1, 1, 1]. \n",
    "\n",
    "clist=[1,1,1]\n",
    "\n",
    "plist = ['pi', 'K']\n",
    "mlist = ['derived', 'direct']\n",
    "cdict_G     = {'pi': 'rebeccapurple', 'K': 'peru'} # Defining colors for G contour plots. \n",
    "cdict_width = {'pi': 'mediumblue', 'K': 'firebrick'} # Defining colors for width plots. \n",
    "\n",
    "# ShowQ=True will show the plots for the given plot method. \n",
    "ShowQ_G     = False # Contours of G form factors, \\pm 1 sigma at each s value. \n",
    "ShowQ_width = False # Contours of width, propagated from above G contours. \n",
    "ShowQ_sl    = False # sl = \"superlist\", a plot of all the iterations of G. \n",
    "\n",
    "for p in plist:\n",
    "  for m in mlist:\n",
    "    hips = HipsofCobra(clist, p, m)  \n",
    "    # Write widths for the above-chosen clist to file in the 'results' folder.\n",
    "    hips.write_widths()\n",
    "    # Generate all plots for all Pname and methods, saved to ./results. \n",
    "    hips.plot_G_countours(color=cdict_G[p], xlim=[0,4], ylim=None, PrintQ=False, ShowQ=ShowQ_G)\n",
    "    hips.plot_width_countours(color=cdict_width[p], xlim=[0,2], ylim=[1e-9, 1e-5], PrintQ=False, ShowQ=ShowQ_width)\n",
    "    hips.plot_sl(xlim=[0,4], ylim=None, PrintQ=False, ShowQ=ShowQ_sl)"
   ]
  }
 ],
 "metadata": {
  "kernelspec": {
   "display_name": "Python 3",
   "language": "python",
   "name": "python3"
  },
  "language_info": {
   "codemirror_mode": {
    "name": "ipython",
    "version": 3
   },
   "file_extension": ".py",
   "mimetype": "text/x-python",
   "name": "python",
   "nbconvert_exporter": "python",
   "pygments_lexer": "ipython3",
   "version": "3.9.5"
  }
 },
 "nbformat": 4,
 "nbformat_minor": 2
}
