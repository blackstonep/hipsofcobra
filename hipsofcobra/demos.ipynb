{
 "cells": [
  {
   "cell_type": "code",
   "execution_count": 3,
   "metadata": {},
   "outputs": [],
   "source": [
    "from classes import HipsofCobra\n",
    "import numpy as np\n",
    "import matplotlib.pyplot as plt\n"
   ]
  },
  {
   "cell_type": "code",
   "execution_count": 4,
   "metadata": {},
   "outputs": [
    {
     "name": "stdout",
     "output_type": "stream",
     "text": [
      "\n",
      "  Making plot of G form factor (contours): \n",
      "    P =  pi , Method =  derived , clist =  [1, 1, 1]  . . . \n",
      "\n",
      "\n",
      "  Making plot of widths (contours): \n",
      "    P =  pi , Method =  derived , clist =  [1, 1, 1]  . . . \n",
      "\n",
      "\n",
      "  Making scatterplot of G form factor (superlist): \n",
      "    P =  pi , Method =  derived , clist =  [1, 1, 1]  . . . \n",
      "\n",
      "\n",
      "  Making plot of G form factor (contours): \n",
      "    P =  pi , Method =  direct , clist =  [1, 1, 1]  . . . \n",
      "\n",
      "\n",
      "  Making plot of widths (contours): \n",
      "    P =  pi , Method =  direct , clist =  [1, 1, 1]  . . . \n",
      "\n",
      "\n",
      "  Making scatterplot of G form factor (superlist): \n",
      "    P =  pi , Method =  direct , clist =  [1, 1, 1]  . . . \n",
      "\n",
      "\n",
      "  Making plot of G form factor (contours): \n",
      "    P =  K , Method =  derived , clist =  [1, 1, 1]  . . . \n",
      "\n",
      "\n",
      "  Making plot of widths (contours): \n",
      "    P =  K , Method =  derived , clist =  [1, 1, 1]  . . . \n",
      "\n",
      "\n",
      "  Making scatterplot of G form factor (superlist): \n",
      "    P =  K , Method =  derived , clist =  [1, 1, 1]  . . . \n",
      "\n",
      "\n",
      "  Making plot of G form factor (contours): \n",
      "    P =  K , Method =  direct , clist =  [1, 1, 1]  . . . \n",
      "\n",
      "\n",
      "  Making plot of widths (contours): \n",
      "    P =  K , Method =  direct , clist =  [1, 1, 1]  . . . \n",
      "\n",
      "\n",
      "  Making scatterplot of G form factor (superlist): \n",
      "    P =  K , Method =  direct , clist =  [1, 1, 1]  . . . \n",
      "\n"
     ]
    },
    {
     "data": {
      "text/plain": [
       "<Figure size 432x288 with 0 Axes>"
      ]
     },
     "metadata": {},
     "output_type": "display_data"
    }
   ],
   "source": [
    "plist = ['pi', 'K']\n",
    "mlist = ['derived', 'direct']\n",
    "\n",
    "# Generate all plots for all Pname and methods \n",
    "for p in plist:\n",
    "  for m in mlist:\n",
    "    a = HipsofCobra([1,1,1], p, m)  \n",
    "    a.plot_G_countours(color='g', xlim=[0,4], ylim=None, PrintQ=False, ShowQ=False)\n",
    "    a.plot_width_countours(color='g', xlim=[0,2], ylim=[1e-9, 1e-5], PrintQ=False, ShowQ=True)\n",
    "    a.plot_sl(xlim=[0,4], ylim=None, PrintQ=False, ShowQ=False)"
   ]
  }
 ],
 "metadata": {
  "kernelspec": {
   "display_name": "Python 3",
   "language": "python",
   "name": "python3"
  },
  "language_info": {
   "codemirror_mode": {
    "name": "ipython",
    "version": 3
   },
   "file_extension": ".py",
   "mimetype": "text/x-python",
   "name": "python",
   "nbconvert_exporter": "python",
   "pygments_lexer": "ipython3",
   "version": "3.9.5"
  }
 },
 "nbformat": 4,
 "nbformat_minor": 2
}
